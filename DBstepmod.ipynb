{
 "cells": [
  {
   "cell_type": "markdown",
   "metadata": {},
   "source": [
    "# Creating NoSQL database with modules from STEPmod"
   ]
  },
  {
   "cell_type": "markdown",
   "metadata": {},
   "source": [
    "For this we need to extract the data from all files in STEPmod and organize it as key-values tables to import in MongoDB.\n",
    "First we create the data base."
   ]
  },
  {
   "cell_type": "code",
   "execution_count": 2,
   "metadata": {
    "collapsed": true
   },
   "outputs": [],
   "source": [
    "from pymongo import MongoClient\n",
    "client = MongoClient()\n",
    "db = client.step"
   ]
  },
  {
   "cell_type": "markdown",
   "metadata": {},
   "source": [
    "## Import data into python dictionaries"
   ]
  },
  {
   "cell_type": "markdown",
   "metadata": {},
   "source": [
    "### Get the list of files to import"
   ]
  },
  {
   "cell_type": "markdown",
   "metadata": {},
   "source": [
    "#### Set the working directory"
   ]
  },
  {
   "cell_type": "code",
   "execution_count": 3,
   "metadata": {
    "collapsed": true
   },
   "outputs": [],
   "source": [
    "import re\n",
    "import os"
   ]
  },
  {
   "cell_type": "markdown",
   "metadata": {},
   "source": [
    "#### Get modules, schema and entity names with their relations"
   ]
  },
  {
   "cell_type": "markdown",
   "metadata": {},
   "source": [
    "Enter schemas and entities as dictionaries:\n",
    "* example for modules and schemas: {*\n",
    "* example for schemas and modules: {\"schema_id\" : \"Activity_arm\", \"entity\" : \"activity\" }"
   ]
  },
  {
   "cell_type": "code",
   "execution_count": 87,
   "metadata": {
    "collapsed": false
   },
   "outputs": [],
   "source": [
    "os.chdir('/Users/aminatambengue/Documents/workspace/stepmod/data/modules')\n",
    "md_list=list()\n",
    "for item in os.listdir():\n",
    "    if not item.startswith('.'):\n",
    "        md_list.append(item)\n",
    "c=str()\n",
    "for elt in md_list:\n",
    "#for elt in list(['activity','activity_method','ap242_managed_model_based_3d_engineering']): #for tests on a subset of stepmod\n",
    "    entity= 'n'\n",
    "    md=dict()\n",
    "    md[\"module\"]=elt.lower()\n",
    "    #look for all .exp files\n",
    "    path=\"/Users/aminatambengue/Documents/workspace/stepmod/data/modules/%s\" %elt\n",
    "    os.chdir(path)\n",
    "    f = os.listdir()\n",
    "    for i in f: #select file in folder\n",
    "        #if (\".exp\" in i and \"concatenated\" not in i and \"patch\" not in i): # check that it's an express\n",
    "        if (\".exp\" in i and \"concatenated\" not in i and \"patch\" not in i and \"prev.exp\" not in i):\n",
    "            j = 1 #line number\n",
    "            comment='n'\n",
    "            h=open(i)\n",
    "            for line in iter(h): #read it line by line\n",
    "                #To exclude comments\n",
    "                if \"(*\" in line:\n",
    "                    comment='y'\n",
    "                if \"*)\" in line:\n",
    "                    comment='n'\n",
    "                if comment == 'n':\n",
    "                    sch=dict()\n",
    "                    while entity == 'n':\n",
    "                        if (\"SCHEMA \" in line and \"from\" not in line):\n",
    "                            a=re.search(\"SCHEMA \",line)\n",
    "                            b=re.search(\";\",line)\n",
    "                            if b is not None:\n",
    "                                c=line[a.end():b.start()]\n",
    "                                md[\"_id\"]=c  \n",
    "                                #db.modules.insert_one(md) #enter list of modules and associated schemas\n",
    "                        elif (\"ENTITY \" in line and \"SELECT\" not in line and \"END_ENTITY\" not in line):\n",
    "                            entity = 'y'\n",
    "                            a=re.search(\"ENTITY \",line)\n",
    "                            if \";\" in line:\n",
    "                                b=re.search(\";\",line)\n",
    "                                if b is not None:\n",
    "                                    sch[\"entity\"]=line[a.end():b.start()].lower()\n",
    "                            else:\n",
    "                                sch[\"entity\"]=line[a.end():-1].lower()\n",
    "                            sch[\"schema_id\"]=c\n",
    "                            #db.modules.insert_one(sch) #enter list of entities and associated schemas\n",
    "                    #print([j,line,i,elt])\n",
    "                j=j+1\n",
    "            h.close()     "
   ]
  },
  {
   "cell_type": "markdown",
   "metadata": {
    "collapsed": true
   },
   "source": [
    "## Test the database\n",
    "List of schemas containing an entity"
   ]
  },
  {
   "cell_type": "code",
   "execution_count": 86,
   "metadata": {
    "collapsed": false
   },
   "outputs": [
    {
     "name": "stdout",
     "output_type": "stream",
     "text": [
      "Activity_arm\n",
      "Ap203_configuration_controlled_3d_design_of_mechanical_parts_and_assemblies_arm_lf\n",
      "Ap209_multidisciplinary_analysis_and_design_arm_LF\n",
      "Ap210_assembly_functional_interface_requirements_arm_LF\n",
      "Ap210_assembly_functional_requirements_arm_LF\n",
      "Ap210_assembly_physical_design_arm_LF\n",
      "Ap210_assembly_physical_interface_requirements_arm_LF\n",
      "Ap210_assembly_physical_requirements_arm_LF\n",
      "Ap210_assembly_requirement_allocation_arm_LF\n",
      "Ap210_assembly_technology_constraints_arm_LF\n",
      "Ap210_connection_zone_based_model_extraction_arm_LF\n",
      "Ap210_datum_difference_based_model_definition_arm_LF\n",
      "Ap210_device_functional_and_physical_characterization_arm_LF\n",
      "Ap210_electronic_assembly_interconnect_and_packaging_design_arm_LF\n",
      "Ap210_functional_decomposition_arm_LF\n",
      "Ap210_functional_requirement_allocation_arm_LF\n",
      "Ap210_functional_specification_arm_LF\n",
      "Ap210_interconnect_design_arm_LF\n",
      "Ap210_interconnect_design_for_microwave_arm_LF\n",
      "Ap210_interconnect_functional_requirements_arm_LF\n",
      "Ap210_interconnect_physical_requirements_arm_LF\n",
      "Ap210_interconnect_requirement_allocation_arm_LF\n",
      "Ap210_interconnect_technology_constraints_arm_LF\n",
      "Ap210_laminate_assembly_design_arm_LF\n",
      "Ap210_package_functional_and_physical_characterization_arm_LF\n",
      "Ap210_packaged_part_white_box_model_arm_LF\n",
      "Ap210_physical_unit_physical_characterization_arm_LF\n",
      "Ap210_printed_part_functional_and_physical_characterization_arm_LF\n",
      "Ap210_production_rule_arm_LF\n",
      "Ap233_system_engineering_and_design_arm_LF\n",
      "Ap233_systems_engineering_arm_LF\n",
      "Ap236_furniture_catalog_and_interior_design_arm_LF\n",
      "Ap239_product_life_cycle_support_arm_LF\n",
      "Ap242_managed_model_based_3d_engineering_arm_LF\n",
      "Catalog_data_information_arm_LF\n",
      "Catalog_data_information_and_shape_representation_arm_LF\n",
      "Configuration_controlled_3d_parts_and_assemblies_arm_lf\n",
      "Decision_support_arm_LF\n",
      "Function_based_behaviour_arm_LF\n",
      "Functional_data_arm_lf\n",
      "FUNCTIONAL_DATA_AND_SCHEMATIC_REPRESENTATION_ARM_LF\n",
      "Furniture_interior_decoration_arm_LF\n",
      "Issue_management_arm_LF\n",
      "Parameterized_catalog_data_and_shape_representation_arm_LF\n",
      "Parameterized_catalog_data_information_arm_LF\n",
      "Program_management_arm_LF\n",
      "Project_management_arm_LF\n",
      "REFERENCE_DATA_LIBRARY_ARM_LF\n",
      "Risk_management_arm_LF\n",
      "State_based_behaviour_arm_LF\n",
      "System_behaviour_arm_LF\n",
      "System_modelling_arm_LF\n",
      "System_structure_arm_LF\n"
     ]
    }
   ],
   "source": [
    "cursor = db.modules.find({'entity':'activity'})\n",
    "for document in cursor:\n",
    "    print(document.get(\"schema_id\"))"
   ]
  },
  {
   "cell_type": "markdown",
   "metadata": {},
   "source": [
    "## Import attributes"
   ]
  },
  {
   "cell_type": "code",
   "execution_count": null,
   "metadata": {
    "collapsed": true
   },
   "outputs": [],
   "source": []
  }
 ],
 "metadata": {
  "anaconda-cloud": {},
  "kernelspec": {
   "display_name": "Python [Root]",
   "language": "python",
   "name": "Python [Root]"
  },
  "language_info": {
   "codemirror_mode": {
    "name": "ipython",
    "version": 3
   },
   "file_extension": ".py",
   "mimetype": "text/x-python",
   "name": "python",
   "nbconvert_exporter": "python",
   "pygments_lexer": "ipython3",
   "version": "3.5.2"
  }
 },
 "nbformat": 4,
 "nbformat_minor": 0
}
